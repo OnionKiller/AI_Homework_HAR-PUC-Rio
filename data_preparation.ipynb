{
 "cells": [
  {
   "cell_type": "code",
   "execution_count": 1,
   "metadata": {},
   "outputs": [],
   "source": [
    "import numpy as np\n",
    "import pandas as pd\n",
    "from sklearn import pipeline\n",
    "from sklearn import preprocessing\n",
    "from ydata_profiling import ProfileReport"
   ]
  },
  {
   "cell_type": "code",
   "execution_count": 2,
   "metadata": {},
   "outputs": [
    {
     "name": "stderr",
     "output_type": "stream",
     "text": [
      "C:\\Users\\tomi\\AppData\\Local\\Temp\\ipykernel_2444\\3314996042.py:31: ParserWarning: Both a converter and dtype were specified for column how_tall_in_meters - only the converter will be used.\n",
      "  df = pd.read_csv(\n",
      "C:\\Users\\tomi\\AppData\\Local\\Temp\\ipykernel_2444\\3314996042.py:31: ParserWarning: Both a converter and dtype were specified for column body_mass_index - only the converter will be used.\n",
      "  df = pd.read_csv(\n",
      "C:\\Users\\tomi\\AppData\\Local\\Temp\\ipykernel_2444\\3314996042.py:31: ParserWarning: Both a converter and dtype were specified for column z4 - only the converter will be used.\n",
      "  df = pd.read_csv(\n"
     ]
    }
   ],
   "source": [
    "dtypes = {\n",
    "    \"user\": str,\n",
    "    \"gender\": str,\n",
    "    \"age\": np.int64,\n",
    "    \"how_tall_in_meters\": np.float64,\n",
    "    \"weight\": np.int64,\n",
    "    \"body_mass_index\": np.float64,\n",
    "    \"x1\": np.int64,\n",
    "    \"y1\": np.int64,\n",
    "    \"z1\": np.int64,\n",
    "    \"x2\": np.int64,\n",
    "    \"y2\": np.int64,\n",
    "    \"z2\": np.int64,\n",
    "    \"x3\": np.int64,\n",
    "    \"y3\": np.int64,\n",
    "    \"z3\": np.int64,\n",
    "    \"x4\": np.int64,\n",
    "    \"y4\": np.int64,\n",
    "    \"z4\": np.int64,\n",
    "    \"class\": str,\n",
    "}\n",
    "\n",
    "\n",
    "def errorproofZ4(x):\n",
    "    try:\n",
    "        return np.int64(x)\n",
    "    except ValueError:\n",
    "        return np.NaN\n",
    "\n",
    "\n",
    "df = pd.read_csv(\n",
    "    \"dataset/dataset-HAR-PUC-Rio.csv\",\n",
    "    sep=\";\",\n",
    "    dtype=dtypes,\n",
    "    converters={\n",
    "        \"how_tall_in_meters\": lambda x: np.float64(x.replace(\",\", \".\")),\n",
    "        \"body_mass_index\": lambda x: np.float64(x.replace(\",\", \".\")),\n",
    "        \"z4\": errorproofZ4,\n",
    "    },\n",
    ")\n",
    "\n",
    "profile = ProfileReport(\n",
    "    df[\n",
    "        [\n",
    "            \"x1\",\n",
    "            \"y1\",\n",
    "            \"z1\",\n",
    "            \"x2\",\n",
    "            \"y2\",\n",
    "            \"z2\",\n",
    "            \"x3\",\n",
    "            \"y3\",\n",
    "            \"z3\",\n",
    "            \"x4\",\n",
    "            \"y4\",\n",
    "            \"z4\",\n",
    "        ]\n",
    "    ],\n",
    "    title=\"HAR-PUC measurements profile\",\n",
    ")"
   ]
  },
  {
   "cell_type": "code",
   "execution_count": 3,
   "metadata": {},
   "outputs": [
    {
     "name": "stderr",
     "output_type": "stream",
     "text": [
      "d:\\U_targyak\\ERASMUS\\AI\\hf\\.venv\\lib\\site-packages\\ydata_profiling\\utils\\dataframe.py:137: SettingWithCopyWarning: \n",
      "A value is trying to be set on a copy of a slice from a DataFrame\n",
      "\n",
      "See the caveats in the documentation: https://pandas.pydata.org/pandas-docs/stable/user_guide/indexing.html#returning-a-view-versus-a-copy\n",
      "  df.rename(columns={\"index\": \"df_index\"}, inplace=True)\n"
     ]
    },
    {
     "data": {
      "application/vnd.jupyter.widget-view+json": {
       "model_id": "ac2ce4b006e24c4e9aa6a873bb8e1ea8",
       "version_major": 2,
       "version_minor": 0
      },
      "text/plain": [
       "Summarize dataset:   0%|          | 0/5 [00:00<?, ?it/s]"
      ]
     },
     "metadata": {},
     "output_type": "display_data"
    },
    {
     "data": {
      "application/vnd.jupyter.widget-view+json": {
       "model_id": "11acbc34da4946e091aa2d9b3985d488",
       "version_major": 2,
       "version_minor": 0
      },
      "text/plain": [
       "Generate report structure:   0%|          | 0/1 [00:00<?, ?it/s]"
      ]
     },
     "metadata": {},
     "output_type": "display_data"
    },
    {
     "data": {
      "application/vnd.jupyter.widget-view+json": {
       "model_id": "a0bc5405919844a2bc1f056b4e7246b4",
       "version_major": 2,
       "version_minor": 0
      },
      "text/plain": [
       "Render widgets:   0%|          | 0/1 [00:00<?, ?it/s]"
      ]
     },
     "metadata": {},
     "output_type": "display_data"
    },
    {
     "data": {
      "application/vnd.jupyter.widget-view+json": {
       "model_id": "0b95152a428e4698ab0541f312f4fd2d",
       "version_major": 2,
       "version_minor": 0
      },
      "text/plain": [
       "VBox(children=(Tab(children=(Tab(children=(GridBox(children=(VBox(children=(GridspecLayout(children=(HTML(valu…"
      ]
     },
     "metadata": {},
     "output_type": "display_data"
    }
   ],
   "source": [
    "profile.to_widgets()"
   ]
  },
  {
   "cell_type": "code",
   "execution_count": 4,
   "metadata": {},
   "outputs": [],
   "source": [
    "# drop the only bad value\n",
    "df.dropna(inplace=True)"
   ]
  },
  {
   "cell_type": "code",
   "execution_count": 5,
   "metadata": {},
   "outputs": [
    {
     "data": {
      "application/vnd.jupyter.widget-view+json": {
       "model_id": "3e64cd5991084cbf860fc9022563b851",
       "version_major": 2,
       "version_minor": 0
      },
      "text/plain": [
       "Summarize dataset:   0%|          | 0/5 [00:00<?, ?it/s]"
      ]
     },
     "metadata": {},
     "output_type": "display_data"
    },
    {
     "data": {
      "application/vnd.jupyter.widget-view+json": {
       "model_id": "7af953d4e90a4e0b800c6ae4471ffbc6",
       "version_major": 2,
       "version_minor": 0
      },
      "text/plain": [
       "Generate report structure:   0%|          | 0/1 [00:00<?, ?it/s]"
      ]
     },
     "metadata": {},
     "output_type": "display_data"
    },
    {
     "data": {
      "application/vnd.jupyter.widget-view+json": {
       "model_id": "c0652bbf09a94374885aeb7dee6f6431",
       "version_major": 2,
       "version_minor": 0
      },
      "text/plain": [
       "Render widgets:   0%|          | 0/1 [00:00<?, ?it/s]"
      ]
     },
     "metadata": {},
     "output_type": "display_data"
    },
    {
     "data": {
      "application/vnd.jupyter.widget-view+json": {
       "model_id": "5c5508374f1e4a8eb77dddaf3a5d3b2c",
       "version_major": 2,
       "version_minor": 0
      },
      "text/plain": [
       "VBox(children=(Tab(children=(Tab(children=(GridBox(children=(VBox(children=(GridspecLayout(children=(HTML(valu…"
      ]
     },
     "metadata": {},
     "output_type": "display_data"
    }
   ],
   "source": [
    "full_profile = ProfileReport(df, title=\"Full HAR-PUC profile\")\n",
    "full_profile.to_widgets()"
   ]
  },
  {
   "attachments": {},
   "cell_type": "markdown",
   "metadata": {},
   "source": [
    "## Scaling\n",
    "It is clearly visible, that the data is from a few people.\n",
    "The scale of the variables is very different, but most of them are not very skewed, they mainly show a gaussian distribution, or gaussina mixture distributions.\n",
    "Some of the data seems to be truncated.\n",
    "## Standard Scaling \n",
    "To have all of the data in the same range the measured variables could be transformed to a standard value.\n",
    "Also the user values should be transformed to Standard range, as they are related to the scale of the measured variables. But due to the low number of users only one variable to represent them would be enough, so variables like gender or age or name could be easily dropped.\n",
    "\n",
    "## calss conversion\n",
    "Calsses should be converted to integer as well"
   ]
  },
  {
   "cell_type": "code",
   "execution_count": 6,
   "metadata": {},
   "outputs": [
    {
     "data": {
      "text/plain": [
       "Index(['user', 'gender', 'age', 'how_tall_in_meters', 'weight',\n",
       "       'body_mass_index', 'x1', 'y1', 'z1', 'x2', 'y2', 'z2', 'x3', 'y3', 'z3',\n",
       "       'x4', 'y4', 'z4', 'class'],\n",
       "      dtype='object')"
      ]
     },
     "execution_count": 6,
     "metadata": {},
     "output_type": "execute_result"
    }
   ],
   "source": [
    "df.columns"
   ]
  },
  {
   "cell_type": "code",
   "execution_count": 7,
   "metadata": {},
   "outputs": [
    {
     "data": {
      "text/plain": [
       "{'sitting': 0, 'sittingdown': 1, 'standing': 2, 'standingup': 3, 'walking': 4}"
      ]
     },
     "execution_count": 7,
     "metadata": {},
     "output_type": "execute_result"
    }
   ],
   "source": [
    "ids = {j: i for i, j in enumerate(df[\"class\"].unique())}\n",
    "ids"
   ]
  },
  {
   "cell_type": "code",
   "execution_count": 8,
   "metadata": {},
   "outputs": [],
   "source": [
    "cleaned = df.copy()\n",
    "cleaned[\"class\"] = df[\"class\"].apply(lambda x: ids[x])\n",
    "cleaned.drop([\"age\", \"user\", \"gender\"], axis=1, inplace=True)"
   ]
  },
  {
   "cell_type": "code",
   "execution_count": 9,
   "metadata": {},
   "outputs": [],
   "source": [
    "cleaned.to_parquet(\"dataset/unscaled_train_data.parquet\")"
   ]
  },
  {
   "cell_type": "code",
   "execution_count": 10,
   "metadata": {},
   "outputs": [],
   "source": [
    "from sklearn.preprocessing import StandardScaler\n",
    "\n",
    "cleaned_validation = df[df.user == \"jose_carlos\"]\n",
    "cleaned_train = df[df.user != \"jose_carlos\"]\n",
    "\n",
    "scaler = StandardScaler()\n",
    "scaled_train = cleaned_train.copy()\n",
    "scaled_validation = cleaned_validation.copy()\n",
    "value_columns = [\n",
    "    \"how_tall_in_meters\",\n",
    "    \"weight\",\n",
    "    \"body_mass_index\",\n",
    "    \"x1\",\n",
    "    \"y1\",\n",
    "    \"z1\",\n",
    "    \"x2\",\n",
    "    \"y2\",\n",
    "    \"z2\",\n",
    "    \"x3\",\n",
    "    \"y3\",\n",
    "    \"z3\",\n",
    "    \"x4\",\n",
    "    \"y4\",\n",
    "    \"z4\",\n",
    "]\n",
    "scaled_train[value_columns] = scaler.fit_transform(cleaned_train[value_columns])\n",
    "scaled_validation[value_columns] = scaler.transform(cleaned_validation[value_columns])\n",
    "\n",
    "scaled_train.to_parquet(\"dataset/scaled_train_data.parquet\")\n",
    "scaled_validation.to_parquet(\"dataset/scaled_validation_data.parquet\")\n"
   ]
  }
 ],
 "metadata": {
  "kernelspec": {
   "display_name": ".venv",
   "language": "python",
   "name": "python3"
  },
  "language_info": {
   "codemirror_mode": {
    "name": "ipython",
    "version": 3
   },
   "file_extension": ".py",
   "mimetype": "text/x-python",
   "name": "python",
   "nbconvert_exporter": "python",
   "pygments_lexer": "ipython3",
   "version": "3.10.7"
  },
  "orig_nbformat": 4
 },
 "nbformat": 4,
 "nbformat_minor": 2
}

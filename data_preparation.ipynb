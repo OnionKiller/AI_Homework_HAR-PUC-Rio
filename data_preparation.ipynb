{
 "cells": [
  {
   "cell_type": "code",
   "execution_count": 18,
   "metadata": {},
   "outputs": [],
   "source": [
    "import numpy as np\n",
    "import pandas as pd\n",
    "from sklearn import pipeline\n",
    "from sklearn import preprocessing\n",
    "from ydata_profiling import ProfileReport"
   ]
  },
  {
   "cell_type": "code",
   "execution_count": 19,
   "metadata": {},
   "outputs": [
    {
     "name": "stderr",
     "output_type": "stream",
     "text": [
      "C:\\Users\\tomi\\AppData\\Local\\Temp\\ipykernel_27688\\1030740947.py:27: ParserWarning: Both a converter and dtype were specified for column how_tall_in_meters - only the converter will be used.\n",
      "  df = pd.read_csv(\"dataset-HAR-PUC-Rio.csv\",sep=';',dtype=dtypes,\n",
      "C:\\Users\\tomi\\AppData\\Local\\Temp\\ipykernel_27688\\1030740947.py:27: ParserWarning: Both a converter and dtype were specified for column body_mass_index - only the converter will be used.\n",
      "  df = pd.read_csv(\"dataset-HAR-PUC-Rio.csv\",sep=';',dtype=dtypes,\n",
      "C:\\Users\\tomi\\AppData\\Local\\Temp\\ipykernel_27688\\1030740947.py:27: ParserWarning: Both a converter and dtype were specified for column z4 - only the converter will be used.\n",
      "  df = pd.read_csv(\"dataset-HAR-PUC-Rio.csv\",sep=';',dtype=dtypes,\n"
     ]
    }
   ],
   "source": [
    "dtypes = {\n",
    "'user':                     str,\n",
    "'gender':                   str,\n",
    "'age':                 np.int64,\n",
    "'how_tall_in_meters':np.float64,\n",
    "'weight':              np.int64,\n",
    "'body_mass_index':   np.float64,\n",
    "'x1':                  np.int64,\n",
    "'y1':                  np.int64,\n",
    "'z1':                  np.int64,\n",
    "'x2':                  np.int64,\n",
    "'y2':                  np.int64,\n",
    "'z2':                  np.int64,\n",
    "'x3':                  np.int64,\n",
    "'y3':                  np.int64,\n",
    "'z3':                  np.int64,\n",
    "'x4':                  np.int64,\n",
    "'y4':                  np.int64,\n",
    "'z4':                  np.int64,\n",
    "'class':                    str,\n",
    "}\n",
    "def errorproofZ4(x):\n",
    "    try:\n",
    "        return np.int64(x)\n",
    "    except ValueError:\n",
    "        return np.NaN\n",
    "df = pd.read_csv(\"dataset-HAR-PUC-Rio.csv\",sep=';',dtype=dtypes,\n",
    "converters={\n",
    "    'how_tall_in_meters':lambda x: np.float64(x.replace(',','.')),\n",
    "    'body_mass_index':lambda x: np.float64(x.replace(',','.')),\n",
    "    'z4': errorproofZ4})\n",
    "\n",
    "profile = ProfileReport(df[['x1','y1','z1','x2','y2','z2','x3','y3','z3','x4','y4','z4',]], title=\"HAR-PUC measurements profile\")"
   ]
  },
  {
   "cell_type": "code",
   "execution_count": 20,
   "metadata": {},
   "outputs": [
    {
     "name": "stderr",
     "output_type": "stream",
     "text": [
      "d:\\U_targyak\\ERASMUS\\AI\\hf\\.venv\\lib\\site-packages\\ydata_profiling\\utils\\dataframe.py:137: SettingWithCopyWarning: \n",
      "A value is trying to be set on a copy of a slice from a DataFrame\n",
      "\n",
      "See the caveats in the documentation: https://pandas.pydata.org/pandas-docs/stable/user_guide/indexing.html#returning-a-view-versus-a-copy\n",
      "  df.rename(columns={\"index\": \"df_index\"}, inplace=True)\n"
     ]
    },
    {
     "data": {
      "application/vnd.jupyter.widget-view+json": {
       "model_id": "de866c4a40bc49bfa6672cb791940fdd",
       "version_major": 2,
       "version_minor": 0
      },
      "text/plain": [
       "Summarize dataset:   0%|          | 0/5 [00:00<?, ?it/s]"
      ]
     },
     "metadata": {},
     "output_type": "display_data"
    },
    {
     "data": {
      "application/vnd.jupyter.widget-view+json": {
       "model_id": "6798d28ab9a64dc9a0f2e3b38a35b538",
       "version_major": 2,
       "version_minor": 0
      },
      "text/plain": [
       "Generate report structure:   0%|          | 0/1 [00:00<?, ?it/s]"
      ]
     },
     "metadata": {},
     "output_type": "display_data"
    },
    {
     "data": {
      "application/vnd.jupyter.widget-view+json": {
       "model_id": "66c107b24e3242658a7df8c01e546f58",
       "version_major": 2,
       "version_minor": 0
      },
      "text/plain": [
       "Render widgets:   0%|          | 0/1 [00:00<?, ?it/s]"
      ]
     },
     "metadata": {},
     "output_type": "display_data"
    },
    {
     "data": {
      "application/vnd.jupyter.widget-view+json": {
       "model_id": "86ca77e36a10430f86f66c2b7d750a18",
       "version_major": 2,
       "version_minor": 0
      },
      "text/plain": [
       "VBox(children=(Tab(children=(Tab(children=(GridBox(children=(VBox(children=(GridspecLayout(children=(HTML(valu…"
      ]
     },
     "metadata": {},
     "output_type": "display_data"
    }
   ],
   "source": [
    "profile.to_widgets()"
   ]
  },
  {
   "cell_type": "code",
   "execution_count": 21,
   "metadata": {},
   "outputs": [],
   "source": [
    "#drop the only bad value\n",
    "df.dropna(inplace=True)"
   ]
  },
  {
   "cell_type": "code",
   "execution_count": null,
   "metadata": {},
   "outputs": [
    {
     "data": {
      "application/vnd.jupyter.widget-view+json": {
       "model_id": "7b34bf3b64324083af35af13ba4402c8",
       "version_major": 2,
       "version_minor": 0
      },
      "text/plain": [
       "Summarize dataset:   0%|          | 0/5 [00:00<?, ?it/s]"
      ]
     },
     "metadata": {},
     "output_type": "display_data"
    },
    {
     "data": {
      "application/vnd.jupyter.widget-view+json": {
       "model_id": "41c32f6696c742c381c92851db0cb5c5",
       "version_major": 2,
       "version_minor": 0
      },
      "text/plain": [
       "Generate report structure:   0%|          | 0/1 [00:00<?, ?it/s]"
      ]
     },
     "metadata": {},
     "output_type": "display_data"
    },
    {
     "data": {
      "application/vnd.jupyter.widget-view+json": {
       "model_id": "8a857ee2977f4a92b9928e49ef73255e",
       "version_major": 2,
       "version_minor": 0
      },
      "text/plain": [
       "Render widgets:   0%|          | 0/1 [00:00<?, ?it/s]"
      ]
     },
     "metadata": {},
     "output_type": "display_data"
    },
    {
     "data": {
      "application/vnd.jupyter.widget-view+json": {
       "model_id": "918eeb540df0425087fdce69445888f0",
       "version_major": 2,
       "version_minor": 0
      },
      "text/plain": [
       "VBox(children=(Tab(children=(Tab(children=(GridBox(children=(VBox(children=(GridspecLayout(children=(HTML(valu…"
      ]
     },
     "metadata": {},
     "output_type": "display_data"
    }
   ],
   "source": [
    "full_profile =  ProfileReport(df, title=\"Full HAR-PUC profile\")\n",
    "full_profile.to_widgets()"
   ]
  },
  {
   "attachments": {},
   "cell_type": "markdown",
   "metadata": {},
   "source": [
    "## Scaling\n",
    "It is clearly visible, that the data is from a few people.\n",
    "The scale of the variables is very different, but most of them are not very skewed, they mainly show a gaussian distribution, or gaussina mixture distributions.\n",
    "Some of the data seems to be truncated.\n",
    "## Standard Scaling \n",
    "To have all of the data in the same range the measured variables could be transformed to a standard value.\n",
    "Also the user values should be transformed to Standard range, as they are related to the scale of the measured variables. But due to the low number of users only one variable to represent them would be enough, so variables like gender or age or name could be easily dropped.\n",
    "\n",
    "## calss conversion\n",
    "Calsses should be converted to integer as well"
   ]
  },
  {
   "cell_type": "code",
   "execution_count": 22,
   "metadata": {},
   "outputs": [
    {
     "data": {
      "text/plain": [
       "Index(['user', 'gender', 'age', 'how_tall_in_meters', 'weight',\n",
       "       'body_mass_index', 'x1', 'y1', 'z1', 'x2', 'y2', 'z2', 'x3', 'y3', 'z3',\n",
       "       'x4', 'y4', 'z4', 'class'],\n",
       "      dtype='object')"
      ]
     },
     "execution_count": 22,
     "metadata": {},
     "output_type": "execute_result"
    }
   ],
   "source": [
    "df.columns"
   ]
  },
  {
   "cell_type": "code",
   "execution_count": 23,
   "metadata": {},
   "outputs": [
    {
     "data": {
      "text/plain": [
       "{'sitting': 0, 'sittingdown': 1, 'standing': 2, 'standingup': 3, 'walking': 4}"
      ]
     },
     "execution_count": 23,
     "metadata": {},
     "output_type": "execute_result"
    }
   ],
   "source": [
    "ids = {j:i for i,j in enumerate(df['class'].unique())}\n",
    "ids"
   ]
  },
  {
   "cell_type": "code",
   "execution_count": 26,
   "metadata": {},
   "outputs": [
    {
     "data": {
      "text/html": [
       "<div>\n",
       "<style scoped>\n",
       "    .dataframe tbody tr th:only-of-type {\n",
       "        vertical-align: middle;\n",
       "    }\n",
       "\n",
       "    .dataframe tbody tr th {\n",
       "        vertical-align: top;\n",
       "    }\n",
       "\n",
       "    .dataframe thead th {\n",
       "        text-align: right;\n",
       "    }\n",
       "</style>\n",
       "<table border=\"1\" class=\"dataframe\">\n",
       "  <thead>\n",
       "    <tr style=\"text-align: right;\">\n",
       "      <th></th>\n",
       "      <th>how_tall_in_meters</th>\n",
       "      <th>weight</th>\n",
       "      <th>body_mass_index</th>\n",
       "      <th>x1</th>\n",
       "      <th>y1</th>\n",
       "      <th>z1</th>\n",
       "      <th>x2</th>\n",
       "      <th>y2</th>\n",
       "      <th>z2</th>\n",
       "      <th>x3</th>\n",
       "      <th>y3</th>\n",
       "      <th>z3</th>\n",
       "      <th>x4</th>\n",
       "      <th>y4</th>\n",
       "      <th>z4</th>\n",
       "      <th>class</th>\n",
       "    </tr>\n",
       "  </thead>\n",
       "  <tbody>\n",
       "    <tr>\n",
       "      <th>0</th>\n",
       "      <td>1.62</td>\n",
       "      <td>75</td>\n",
       "      <td>28.6</td>\n",
       "      <td>-3</td>\n",
       "      <td>92</td>\n",
       "      <td>-63</td>\n",
       "      <td>-23</td>\n",
       "      <td>18</td>\n",
       "      <td>-19</td>\n",
       "      <td>5</td>\n",
       "      <td>104</td>\n",
       "      <td>-92</td>\n",
       "      <td>-150</td>\n",
       "      <td>-103</td>\n",
       "      <td>-147.0</td>\n",
       "      <td>0</td>\n",
       "    </tr>\n",
       "    <tr>\n",
       "      <th>1</th>\n",
       "      <td>1.62</td>\n",
       "      <td>75</td>\n",
       "      <td>28.6</td>\n",
       "      <td>-3</td>\n",
       "      <td>94</td>\n",
       "      <td>-64</td>\n",
       "      <td>-21</td>\n",
       "      <td>18</td>\n",
       "      <td>-18</td>\n",
       "      <td>-14</td>\n",
       "      <td>104</td>\n",
       "      <td>-90</td>\n",
       "      <td>-149</td>\n",
       "      <td>-104</td>\n",
       "      <td>-145.0</td>\n",
       "      <td>0</td>\n",
       "    </tr>\n",
       "    <tr>\n",
       "      <th>2</th>\n",
       "      <td>1.62</td>\n",
       "      <td>75</td>\n",
       "      <td>28.6</td>\n",
       "      <td>-1</td>\n",
       "      <td>97</td>\n",
       "      <td>-61</td>\n",
       "      <td>-12</td>\n",
       "      <td>20</td>\n",
       "      <td>-15</td>\n",
       "      <td>-13</td>\n",
       "      <td>104</td>\n",
       "      <td>-90</td>\n",
       "      <td>-151</td>\n",
       "      <td>-104</td>\n",
       "      <td>-144.0</td>\n",
       "      <td>0</td>\n",
       "    </tr>\n",
       "    <tr>\n",
       "      <th>3</th>\n",
       "      <td>1.62</td>\n",
       "      <td>75</td>\n",
       "      <td>28.6</td>\n",
       "      <td>-2</td>\n",
       "      <td>96</td>\n",
       "      <td>-57</td>\n",
       "      <td>-15</td>\n",
       "      <td>21</td>\n",
       "      <td>-16</td>\n",
       "      <td>-13</td>\n",
       "      <td>104</td>\n",
       "      <td>-89</td>\n",
       "      <td>-153</td>\n",
       "      <td>-103</td>\n",
       "      <td>-142.0</td>\n",
       "      <td>0</td>\n",
       "    </tr>\n",
       "    <tr>\n",
       "      <th>4</th>\n",
       "      <td>1.62</td>\n",
       "      <td>75</td>\n",
       "      <td>28.6</td>\n",
       "      <td>-1</td>\n",
       "      <td>96</td>\n",
       "      <td>-61</td>\n",
       "      <td>-13</td>\n",
       "      <td>20</td>\n",
       "      <td>-15</td>\n",
       "      <td>-13</td>\n",
       "      <td>104</td>\n",
       "      <td>-89</td>\n",
       "      <td>-153</td>\n",
       "      <td>-104</td>\n",
       "      <td>-143.0</td>\n",
       "      <td>0</td>\n",
       "    </tr>\n",
       "    <tr>\n",
       "      <th>...</th>\n",
       "      <td>...</td>\n",
       "      <td>...</td>\n",
       "      <td>...</td>\n",
       "      <td>...</td>\n",
       "      <td>...</td>\n",
       "      <td>...</td>\n",
       "      <td>...</td>\n",
       "      <td>...</td>\n",
       "      <td>...</td>\n",
       "      <td>...</td>\n",
       "      <td>...</td>\n",
       "      <td>...</td>\n",
       "      <td>...</td>\n",
       "      <td>...</td>\n",
       "      <td>...</td>\n",
       "      <td>...</td>\n",
       "    </tr>\n",
       "    <tr>\n",
       "      <th>165628</th>\n",
       "      <td>1.67</td>\n",
       "      <td>67</td>\n",
       "      <td>24.0</td>\n",
       "      <td>2</td>\n",
       "      <td>93</td>\n",
       "      <td>-148</td>\n",
       "      <td>-8</td>\n",
       "      <td>88</td>\n",
       "      <td>-100</td>\n",
       "      <td>15</td>\n",
       "      <td>120</td>\n",
       "      <td>-100</td>\n",
       "      <td>-189</td>\n",
       "      <td>-77</td>\n",
       "      <td>-160.0</td>\n",
       "      <td>4</td>\n",
       "    </tr>\n",
       "    <tr>\n",
       "      <th>165629</th>\n",
       "      <td>1.67</td>\n",
       "      <td>67</td>\n",
       "      <td>24.0</td>\n",
       "      <td>-1</td>\n",
       "      <td>94</td>\n",
       "      <td>-147</td>\n",
       "      <td>-17</td>\n",
       "      <td>87</td>\n",
       "      <td>-99</td>\n",
       "      <td>17</td>\n",
       "      <td>121</td>\n",
       "      <td>-99</td>\n",
       "      <td>-190</td>\n",
       "      <td>-78</td>\n",
       "      <td>-158.0</td>\n",
       "      <td>4</td>\n",
       "    </tr>\n",
       "    <tr>\n",
       "      <th>165630</th>\n",
       "      <td>1.67</td>\n",
       "      <td>67</td>\n",
       "      <td>24.0</td>\n",
       "      <td>-10</td>\n",
       "      <td>93</td>\n",
       "      <td>-143</td>\n",
       "      <td>-19</td>\n",
       "      <td>86</td>\n",
       "      <td>-104</td>\n",
       "      <td>0</td>\n",
       "      <td>114</td>\n",
       "      <td>-101</td>\n",
       "      <td>-185</td>\n",
       "      <td>-80</td>\n",
       "      <td>-153.0</td>\n",
       "      <td>4</td>\n",
       "    </tr>\n",
       "    <tr>\n",
       "      <th>165631</th>\n",
       "      <td>1.67</td>\n",
       "      <td>67</td>\n",
       "      <td>24.0</td>\n",
       "      <td>-15</td>\n",
       "      <td>86</td>\n",
       "      <td>-152</td>\n",
       "      <td>-19</td>\n",
       "      <td>88</td>\n",
       "      <td>-117</td>\n",
       "      <td>-44</td>\n",
       "      <td>155</td>\n",
       "      <td>-25</td>\n",
       "      <td>-185</td>\n",
       "      <td>-84</td>\n",
       "      <td>-156.0</td>\n",
       "      <td>4</td>\n",
       "    </tr>\n",
       "    <tr>\n",
       "      <th>165632</th>\n",
       "      <td>1.67</td>\n",
       "      <td>67</td>\n",
       "      <td>24.0</td>\n",
       "      <td>-14</td>\n",
       "      <td>86</td>\n",
       "      <td>-144</td>\n",
       "      <td>-18</td>\n",
       "      <td>85</td>\n",
       "      <td>-107</td>\n",
       "      <td>-3</td>\n",
       "      <td>114</td>\n",
       "      <td>-128</td>\n",
       "      <td>-210</td>\n",
       "      <td>-88</td>\n",
       "      <td>-148.0</td>\n",
       "      <td>4</td>\n",
       "    </tr>\n",
       "  </tbody>\n",
       "</table>\n",
       "<p>165632 rows × 16 columns</p>\n",
       "</div>"
      ],
      "text/plain": [
       "        how_tall_in_meters  weight  body_mass_index  x1  y1   z1  x2  y2   z2  \\\n",
       "0                     1.62      75             28.6  -3  92  -63 -23  18  -19   \n",
       "1                     1.62      75             28.6  -3  94  -64 -21  18  -18   \n",
       "2                     1.62      75             28.6  -1  97  -61 -12  20  -15   \n",
       "3                     1.62      75             28.6  -2  96  -57 -15  21  -16   \n",
       "4                     1.62      75             28.6  -1  96  -61 -13  20  -15   \n",
       "...                    ...     ...              ...  ..  ..  ...  ..  ..  ...   \n",
       "165628                1.67      67             24.0   2  93 -148  -8  88 -100   \n",
       "165629                1.67      67             24.0  -1  94 -147 -17  87  -99   \n",
       "165630                1.67      67             24.0 -10  93 -143 -19  86 -104   \n",
       "165631                1.67      67             24.0 -15  86 -152 -19  88 -117   \n",
       "165632                1.67      67             24.0 -14  86 -144 -18  85 -107   \n",
       "\n",
       "        x3   y3   z3   x4   y4     z4  class  \n",
       "0        5  104  -92 -150 -103 -147.0      0  \n",
       "1      -14  104  -90 -149 -104 -145.0      0  \n",
       "2      -13  104  -90 -151 -104 -144.0      0  \n",
       "3      -13  104  -89 -153 -103 -142.0      0  \n",
       "4      -13  104  -89 -153 -104 -143.0      0  \n",
       "...     ..  ...  ...  ...  ...    ...    ...  \n",
       "165628  15  120 -100 -189  -77 -160.0      4  \n",
       "165629  17  121  -99 -190  -78 -158.0      4  \n",
       "165630   0  114 -101 -185  -80 -153.0      4  \n",
       "165631 -44  155  -25 -185  -84 -156.0      4  \n",
       "165632  -3  114 -128 -210  -88 -148.0      4  \n",
       "\n",
       "[165632 rows x 16 columns]"
      ]
     },
     "execution_count": 26,
     "metadata": {},
     "output_type": "execute_result"
    }
   ],
   "source": [
    "cleaned = df.copy()\n",
    "cleaned[\"class\"] = df[\"class\"].apply(lambda x: ids[x])\n",
    "cleaned.drop([\"age\",\"user\",\"gender\"],axis=1)"
   ]
  },
  {
   "cell_type": "code",
   "execution_count": 27,
   "metadata": {},
   "outputs": [],
   "source": [
    "cleaned.to_parquet(\"unscaled_train_data.parquet\")"
   ]
  }
 ],
 "metadata": {
  "kernelspec": {
   "display_name": ".venv",
   "language": "python",
   "name": "python3"
  },
  "language_info": {
   "codemirror_mode": {
    "name": "ipython",
    "version": 3
   },
   "file_extension": ".py",
   "mimetype": "text/x-python",
   "name": "python",
   "nbconvert_exporter": "python",
   "pygments_lexer": "ipython3",
   "version": "3.10.7"
  },
  "orig_nbformat": 4
 },
 "nbformat": 4,
 "nbformat_minor": 2
}
